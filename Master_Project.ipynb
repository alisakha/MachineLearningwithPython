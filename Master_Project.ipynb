{
  "nbformat": 4,
  "nbformat_minor": 0,
  "metadata": {
    "colab": {
      "provenance": [],
      "authorship_tag": "ABX9TyOPS3FzmWodnigOJ12u7+rd",
      "include_colab_link": true
    },
    "kernelspec": {
      "name": "python3",
      "display_name": "Python 3"
    },
    "language_info": {
      "name": "python"
    }
  },
  "cells": [
    {
      "cell_type": "markdown",
      "metadata": {
        "id": "view-in-github",
        "colab_type": "text"
      },
      "source": [
        "<a href=\"https://colab.research.google.com/github/alisakha/MachineLearningwithPython/blob/master/Master_Project.ipynb\" target=\"_parent\"><img src=\"https://colab.research.google.com/assets/colab-badge.svg\" alt=\"Open In Colab\"/></a>"
      ]
    },
    {
      "cell_type": "code",
      "source": [
        "import pandas as pd\n",
        "import matplotlib.pyplot as plt\n",
        "import seaborn as sns\n",
        "\n",
        "# Set seaborn style for plots\n",
        "sns.set(style=\"whitegrid\")\n",
        "\n",
        "# Load the Excel file\n",
        "file_path = '/mnt/data/FINAL_STRONG_ADJUSTED_DATAset_with_CRT_significant.xlsx'\n",
        "df = pd.read_excel(file_path)\n",
        "\n",
        "# 1. Calculate the mean and standard deviation of age\n",
        "mean_age = df['age'].mean()\n",
        "std_age = df['age'].std()\n",
        "\n",
        "# 2. Calculate the gender distribution (count of males and females)\n",
        "gender_distribution = df['gen'].value_counts()\n",
        "\n",
        "# 3. Extract scores for Little's Law questions (LittSC1 - LittSC4)\n",
        "littles_scores = df[['LittSC1', 'LittSC2', 'LittSC3', 'LittSC4']]\n",
        "\n",
        "# 4. Calculate the mean and standard deviation for CRT scores\n",
        "crt_tot_mean = df['CRTtot'].mean()\n",
        "crt_tot_std = df['CRTtot'].std()\n",
        "\n",
        "# --- Data Visualization and Descriptive Statistics ---\n",
        "\n",
        "# Plot gender distribution\n",
        "plt.figure(figsize=(6,4))\n",
        "sns.barplot(x=gender_distribution.index, y=gender_distribution.values, palette='pastel')\n",
        "plt.title(\"Gender Distribution\")\n",
        "plt.xlabel(\"Gender (1 = Male, 0 = Female)\")\n",
        "plt.ylabel(\"Number of Participants\")\n",
        "plt.xticks(ticks=[0, 1], labels=['Female', 'Male'])\n",
        "plt.tight_layout()\n",
        "plt.show()\n",
        "\n",
        "# Plot distribution of correct answers in Little's Law questions\n",
        "littles_scores.sum(axis=1).plot(kind='hist', bins=5, color='skyblue', edgecolor='black')\n",
        "plt.title(\"Distribution of Correct Answers in Little's Law Questions\")\n",
        "plt.xlabel(\"Number of Correct Answers\")\n",
        "plt.ylabel(\"Number of Participants\")\n",
        "plt.grid(True)\n",
        "plt.tight_layout()\n",
        "plt.show()\n",
        "\n",
        "# Plot CRT scores distribution\n",
        "df['CRTtot'].plot(kind='hist', bins=4, color='lightgreen', edgecolor='black')\n",
        "plt.title(\"Distribution of CRT Scores\")\n",
        "plt.xlabel(\"CRT Score\")\n",
        "plt.ylabel(\"Number of Participants\")\n",
        "plt.grid(True)\n",
        "plt.tight_layout()\n",
        "plt.show()\n",
        "\n",
        "# --- Summary Data Preparation ---\n",
        "# Age statistics\n",
        "age_stats = {\n",
        "    \"Mean Age\": mean_age,\n",
        "    \"Standard Deviation of Age\": std_age\n",
        "}\n",
        "\n",
        "# Gender distribution\n",
        "gender_stats = gender_distribution.to_dict()\n",
        "\n",
        "# Distribution of correct answers in Little's Law questions\n",
        "littles_distribution = littles_scores.sum(axis=0).to_dict()\n",
        "\n",
        "# CRT scores distribution and descriptive statistics\n",
        "crt_distribution = df['CRTtot'].value_counts().sort_index().to_dict()\n",
        "\n",
        "# Combine all summaries into a DataFrame for easier display\n",
        "data_summary = {\n",
        "    \"Age Statistics\": age_stats,\n",
        "    \"Gender Distribution\": gender_stats,\n",
        "    \"Little's Law Score Distribution\": littles_distribution,\n",
        "    \"CRT Score Distribution\": crt_distribution,\n",
        "    \"Mean CRT Score\": crt_tot_mean,\n",
        "    \"Standard Deviation CRT Score\": crt_tot_std\n",
        "}\n",
        "\n",
        "# Display the summary DataFrame\n",
        "import ace_tools as tools\n",
        "tools.display_dataframe_to_user(name=\"Descriptive and Analytical Data Summary\", dataframe=pd.DataFrame(data_summary))\n"
      ],
      "metadata": {
        "id": "tDOu_F44rxPs"
      },
      "execution_count": null,
      "outputs": []
    }
  ]
}