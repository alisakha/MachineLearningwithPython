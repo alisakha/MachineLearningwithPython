{
  "nbformat": 4,
  "nbformat_minor": 0,
  "metadata": {
    "colab": {
      "provenance": [],
      "authorship_tag": "ABX9TyN908txL9c+8FbDp9e+Nh04",
      "include_colab_link": true
    },
    "kernelspec": {
      "name": "python3",
      "display_name": "Python 3"
    },
    "language_info": {
      "name": "python"
    }
  },
  "cells": [
    {
      "cell_type": "markdown",
      "metadata": {
        "id": "view-in-github",
        "colab_type": "text"
      },
      "source": [
        "<a href=\"https://colab.research.google.com/github/alisakha/MachineLearningwithPython/blob/master/Master_Project.ipynb\" target=\"_parent\"><img src=\"https://colab.research.google.com/assets/colab-badge.svg\" alt=\"Open In Colab\"/></a>"
      ]
    },
    {
      "cell_type": "code",
      "execution_count": 1,
      "metadata": {
        "colab": {
          "base_uri": "https://localhost:8080/",
          "height": 216
        },
        "id": "trkpYqxLqfUj",
        "outputId": "a79faf32-9215-4fdc-aba3-85e0dffb71bc"
      },
      "outputs": [
        {
          "output_type": "error",
          "ename": "NameError",
          "evalue": "name 'df_cleaned' is not defined",
          "traceback": [
            "\u001b[0;31m---------------------------------------------------------------------------\u001b[0m",
            "\u001b[0;31mNameError\u001b[0m                                 Traceback (most recent call last)",
            "\u001b[0;32m<ipython-input-1-dd9dacfd2ce8>\u001b[0m in \u001b[0;36m<cell line: 12>\u001b[0;34m()\u001b[0m\n\u001b[1;32m     11\u001b[0m \u001b[0;31m# محاسبات برای هر متغیر\u001b[0m\u001b[0;34m\u001b[0m\u001b[0;34m\u001b[0m\u001b[0m\n\u001b[1;32m     12\u001b[0m \u001b[0;32mfor\u001b[0m \u001b[0mcolumn\u001b[0m \u001b[0;32min\u001b[0m \u001b[0mdemographic_columns\u001b[0m\u001b[0;34m:\u001b[0m\u001b[0;34m\u001b[0m\u001b[0;34m\u001b[0m\u001b[0m\n\u001b[0;32m---> 13\u001b[0;31m     \u001b[0mdata\u001b[0m \u001b[0;34m=\u001b[0m \u001b[0mdf_cleaned\u001b[0m\u001b[0;34m[\u001b[0m\u001b[0mcolumn\u001b[0m\u001b[0;34m]\u001b[0m\u001b[0;34m\u001b[0m\u001b[0;34m\u001b[0m\u001b[0m\n\u001b[0m\u001b[1;32m     14\u001b[0m \u001b[0;34m\u001b[0m\u001b[0m\n\u001b[1;32m     15\u001b[0m     \u001b[0;31m# محاسبه چولگی و کشیدگی\u001b[0m\u001b[0;34m\u001b[0m\u001b[0;34m\u001b[0m\u001b[0m\n",
            "\u001b[0;31mNameError\u001b[0m: name 'df_cleaned' is not defined"
          ]
        }
      ],
      "source": [
        "import numpy as np\n",
        "import pandas as pd\n",
        "from scipy.stats import skew, kurtosis\n",
        "\n",
        "# تعریف متغیرهای جمعیت شناختی که قرار است بررسی شوند\n",
        "demographic_columns = ['edu', 'age', 'gen']\n",
        "\n",
        "# ایجاد لیستی برای نگهداری نتایج\n",
        "results = []\n",
        "\n",
        "# محاسبات برای هر متغیر\n",
        "for column in demographic_columns:\n",
        "    data = df_cleaned[column]\n",
        "\n",
        "    # محاسبه چولگی و کشیدگی\n",
        "    skewness = skew(data)\n",
        "    kurt = kurtosis(data)\n",
        "\n",
        "    # اندازه نمونه\n",
        "    n = len(data)\n",
        "\n",
        "    # محاسبه خطای معیار برای چولگی و کشیدگی\n",
        "    skew_se = (6 / n) ** 0.5\n",
        "    kurt_se = (24 / n) ** 0.5\n",
        "\n",
        "    # محاسبه نمره‌های معیار چولگی و کشیدگی\n",
        "    skew_z = skewness / skew_se\n",
        "    kurt_z = kurt / kurt_se\n",
        "\n",
        "    # تعیین وضعیت نرمال بودن بر اساس معیار نمره (|z| < 2)\n",
        "    normality_status = \"Normal\" if abs(skew_z) < 2 and abs(kurt_z) < 2 else \"Not Normal\"\n",
        "\n",
        "    # اضافه کردن نتایج به لیست\n",
        "    results.append({\n",
        "        \"Variable\": column,\n",
        "        \"Sample Size\": n,\n",
        "        \"Skewness\": skewness,\n",
        "        \"Skewness SE\": skew_se,\n",
        "        \"Kurtosis\": kurt,\n",
        "        \"Kurtosis SE\": kurt_se,\n",
        "        \"Standardized Skewness (Z)\": skew_z,\n",
        "        \"Standardized Kurtosis (Z)\": kurt_z,\n",
        "        \"Normality Status\": normality_status\n",
        "    })\n",
        "\n",
        "# تبدیل نتایج به DataFrame\n",
        "normality_table = pd.DataFrame(results)\n",
        "\n",
        "# نمایش نتایج\n",
        "import ace_tools as tools; tools.display_dataframe_to_user(name=\"Normality of Demographic Variables\", dataframe=normality_table)"
      ]
    }
  ]
}